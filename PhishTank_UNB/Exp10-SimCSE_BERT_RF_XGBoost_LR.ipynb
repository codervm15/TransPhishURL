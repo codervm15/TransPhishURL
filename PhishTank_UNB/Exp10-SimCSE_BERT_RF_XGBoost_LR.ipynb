{
 "cells": [
  {
   "cell_type": "code",
   "execution_count": 1,
   "id": "852636ae-1b23-4334-81fe-b1a170e7e4f4",
   "metadata": {},
   "outputs": [],
   "source": [
    "import pandas as pd\n",
    "import numpy as np\n",
    "from sklearn.model_selection import train_test_split, cross_val_score\n",
    "from sklearn.ensemble import RandomForestClassifier, GradientBoostingClassifier, StackingClassifier\n",
    "from sklearn.linear_model import LogisticRegression\n",
    "from sklearn.metrics import classification_report, accuracy_score\n",
    "from transformers import AutoTokenizer, AutoModel\n",
    "\n",
    "from sklearn.utils import shuffle\n",
    "import torch\n",
    "import matplotlib.pyplot as plt"
   ]
  },
  {
   "cell_type": "code",
   "execution_count": 2,
   "id": "10eb3de5-efa7-48e8-abf8-149b5a0be2b2",
   "metadata": {},
   "outputs": [
    {
     "name": "stdout",
     "output_type": "stream",
     "text": [
      "There are 1 GPU(s) available.\n",
      "Device name: NVIDIA RTX A5000\n"
     ]
    }
   ],
   "source": [
    "if torch.cuda.is_available():\n",
    "  device = \"cuda\"\n",
    "else:\n",
    "  device = \"cpu\"\n",
    "\n",
    "print(f'There are {torch.cuda.device_count()} GPU(s) available.')\n",
    "print('Device name:', torch.cuda.get_device_name(0))"
   ]
  },
  {
   "cell_type": "code",
   "execution_count": 3,
   "id": "f597525c-cf9f-481f-be8f-0a3d170a60af",
   "metadata": {},
   "outputs": [
    {
     "data": {
      "text/html": [
       "<div>\n",
       "<style scoped>\n",
       "    .dataframe tbody tr th:only-of-type {\n",
       "        vertical-align: middle;\n",
       "    }\n",
       "\n",
       "    .dataframe tbody tr th {\n",
       "        vertical-align: top;\n",
       "    }\n",
       "\n",
       "    .dataframe thead th {\n",
       "        text-align: right;\n",
       "    }\n",
       "</style>\n",
       "<table border=\"1\" class=\"dataframe\">\n",
       "  <thead>\n",
       "    <tr style=\"text-align: right;\">\n",
       "      <th></th>\n",
       "      <th>url</th>\n",
       "      <th>label</th>\n",
       "    </tr>\n",
       "  </thead>\n",
       "  <tbody>\n",
       "    <tr>\n",
       "      <th>11641</th>\n",
       "      <td>na1688b2140.standrewsacademy.org/nab/?memberid=1</td>\n",
       "      <td>1</td>\n",
       "    </tr>\n",
       "    <tr>\n",
       "      <th>34427</th>\n",
       "      <td>art-bin.com/art/or_weltypreface.html</td>\n",
       "      <td>0</td>\n",
       "    </tr>\n",
       "    <tr>\n",
       "      <th>38177</th>\n",
       "      <td>www.linuxconfig.org/Bash_scripting_Tutorial</td>\n",
       "      <td>0</td>\n",
       "    </tr>\n",
       "    <tr>\n",
       "      <th>14088</th>\n",
       "      <td>members.tripod.com/isczurko/index.htm</td>\n",
       "      <td>0</td>\n",
       "    </tr>\n",
       "    <tr>\n",
       "      <th>1639</th>\n",
       "      <td>home.comcast.net/~chgrimes/ukloginitefelgeiras...</td>\n",
       "      <td>1</td>\n",
       "    </tr>\n",
       "    <tr>\n",
       "      <th>...</th>\n",
       "      <td>...</td>\n",
       "      <td>...</td>\n",
       "    </tr>\n",
       "    <tr>\n",
       "      <th>13305</th>\n",
       "      <td>www.batt-vf.tk/cert/</td>\n",
       "      <td>1</td>\n",
       "    </tr>\n",
       "    <tr>\n",
       "      <th>697</th>\n",
       "      <td>www.c-siron.com/feeder_panels2.htm</td>\n",
       "      <td>0</td>\n",
       "    </tr>\n",
       "    <tr>\n",
       "      <th>16579</th>\n",
       "      <td>home.neopets.com/templates/homepage.phtml?pet_...</td>\n",
       "      <td>0</td>\n",
       "    </tr>\n",
       "    <tr>\n",
       "      <th>32844</th>\n",
       "      <td>www.baremetalsoft.com/baregrep/</td>\n",
       "      <td>0</td>\n",
       "    </tr>\n",
       "    <tr>\n",
       "      <th>10383</th>\n",
       "      <td>jmlr.csail.mit.edu/mloss/</td>\n",
       "      <td>0</td>\n",
       "    </tr>\n",
       "  </tbody>\n",
       "</table>\n",
       "<p>50000 rows × 2 columns</p>\n",
       "</div>"
      ],
      "text/plain": [
       "                                                     url  label\n",
       "11641   na1688b2140.standrewsacademy.org/nab/?memberid=1      1\n",
       "34427               art-bin.com/art/or_weltypreface.html      0\n",
       "38177        www.linuxconfig.org/Bash_scripting_Tutorial      0\n",
       "14088              members.tripod.com/isczurko/index.htm      0\n",
       "1639   home.comcast.net/~chgrimes/ukloginitefelgeiras...      1\n",
       "...                                                  ...    ...\n",
       "13305                               www.batt-vf.tk/cert/      1\n",
       "697                   www.c-siron.com/feeder_panels2.htm      0\n",
       "16579  home.neopets.com/templates/homepage.phtml?pet_...      0\n",
       "32844                    www.baremetalsoft.com/baregrep/      0\n",
       "10383                          jmlr.csail.mit.edu/mloss/      0\n",
       "\n",
       "[50000 rows x 2 columns]"
      ]
     },
     "execution_count": 3,
     "metadata": {},
     "output_type": "execute_result"
    }
   ],
   "source": [
    "benign_data = pd.read_csv(\"/home/vikrant/Desktop/Thesis/Thesis_Projects/URL_detection/Benign.csv\")\n",
    "\n",
    "malicious_data = pd.read_csv(\"/home/vikrant/Desktop/Thesis/Thesis_Projects/URL_detection/Malicious.csv\")\n",
    "\n",
    "df1 = pd.DataFrame(benign_data)\n",
    "df2 = pd.DataFrame(malicious_data)\n",
    "\n",
    "x = df1.sample(25000)\n",
    "y = df2.sample(25000)\n",
    "\n",
    "data = pd.concat([x,y], axis=0)\n",
    "data = shuffle(data)\n",
    "data"
   ]
  },
  {
   "cell_type": "code",
   "execution_count": 4,
   "id": "cedd5af0-543a-4af5-ac3a-38e1ccaf013f",
   "metadata": {},
   "outputs": [],
   "source": [
    "texts = data['url'].values\n",
    "labels = data['label'].values"
   ]
  },
  {
   "cell_type": "code",
   "execution_count": 5,
   "id": "d62915d0-fd6d-4e6c-878d-a25ece89a793",
   "metadata": {},
   "outputs": [],
   "source": [
    "# Split the data into 80% training and 20% test set\n",
    "X_train, X_test, y_train, y_test = train_test_split(texts, labels, test_size=0.2, random_state=2018)\n",
    "\n",
    "# Further split the training data into 75% training and 25% validation\n",
    "X_train, X_val, y_train, y_val = train_test_split(X_train, y_train, test_size=0.25, random_state=2018)\n"
   ]
  },
  {
   "cell_type": "code",
   "execution_count": 6,
   "id": "f3d8cb2b-dd37-48b3-b235-e3fd530c4cd4",
   "metadata": {},
   "outputs": [
    {
     "name": "stderr",
     "output_type": "stream",
     "text": [
      "/home/vikrant/anaconda3/lib/python3.11/site-packages/huggingface_hub/file_download.py:1132: FutureWarning: `resume_download` is deprecated and will be removed in version 1.0.0. Downloads always resume when possible. If you want to force a new download, use `force_download=True`.\n",
      "  warnings.warn(\n",
      "/home/vikrant/anaconda3/lib/python3.11/site-packages/transformers/utils/generic.py:260: UserWarning: torch.utils._pytree._register_pytree_node is deprecated. Please use torch.utils._pytree.register_pytree_node instead.\n",
      "  torch.utils._pytree._register_pytree_node(\n",
      "/home/vikrant/anaconda3/lib/python3.11/site-packages/transformers/utils/generic.py:260: UserWarning: torch.utils._pytree._register_pytree_node is deprecated. Please use torch.utils._pytree.register_pytree_node instead.\n",
      "  torch.utils._pytree._register_pytree_node(\n"
     ]
    }
   ],
   "source": [
    "# Load SimCSE-BERT model and tokenizer\n",
    "tokenizer = AutoTokenizer.from_pretrained('princeton-nlp/sup-simcse-roberta-large')\n",
    "model = AutoModel.from_pretrained('princeton-nlp/sup-simcse-roberta-large').to(device)"
   ]
  },
  {
   "cell_type": "code",
   "execution_count": 7,
   "id": "beb66644-412a-41da-8e63-91b6a6855a89",
   "metadata": {},
   "outputs": [],
   "source": [
    "from torch.cuda.amp import autocast, GradScaler\n",
    "# Use mixed precision\n",
    "scaler = GradScaler()\n",
    "\n",
    "def embed_texts(texts, tokenizer, model, max_length=128, batch_size=16):\n",
    "    embeddings = []\n",
    "    for i in range(0, len(texts), batch_size):\n",
    "        batch_texts = texts[i:i + batch_size]\n",
    "        inputs = tokenizer(batch_texts.tolist(), padding=True, truncation=True, max_length=max_length, return_tensors='pt').to('cuda')\n",
    "        \n",
    "        with torch.no_grad():\n",
    "            with autocast():\n",
    "                outputs = model(**inputs)\n",
    "                batch_embeddings = outputs.last_hidden_state[:, 0, :].cpu().numpy()  # Using CLS token representation\n",
    "        \n",
    "        embeddings.append(batch_embeddings)\n",
    "        torch.cuda.empty_cache()  # Clear GPU cache\n",
    "\n",
    "    return np.vstack(embeddings)"
   ]
  },
  {
   "cell_type": "code",
   "execution_count": 8,
   "id": "5a42627b-4187-4455-9d9a-58eba2b4f1e9",
   "metadata": {},
   "outputs": [],
   "source": [
    "# Generate embeddings\n",
    "X_train_embeds = embed_texts(X_train, tokenizer, model)\n",
    "X_val_embeds = embed_texts(X_val, tokenizer, model)\n",
    "X_test_embeds = embed_texts(X_test, tokenizer, model)"
   ]
  },
  {
   "cell_type": "code",
   "execution_count": 9,
   "id": "fe9d4166-a7ee-4b4d-afd9-a940eb7afcc0",
   "metadata": {},
   "outputs": [],
   "source": [
    "# Define base models\n",
    "base_models = [\n",
    "    ('rf', RandomForestClassifier(n_estimators=100, random_state=2018)),\n",
    "    ('gb', GradientBoostingClassifier(n_estimators=100, random_state=2018))\n",
    "]\n",
    "\n",
    "# Define the meta-model\n",
    "meta_model = LogisticRegression(random_state=2018)\n",
    "\n",
    "# Create the StackingClassifier\n",
    "stacked_model = StackingClassifier(estimators=base_models, final_estimator=meta_model, cv=5)"
   ]
  },
  {
   "cell_type": "code",
   "execution_count": null,
   "id": "d1be6789-27d4-49fa-b212-fe60291cdf6a",
   "metadata": {},
   "outputs": [],
   "source": [
    "# Fit the final model\n",
    "stacked_model.fit(X_train_embeds, y_train)"
   ]
  },
  {
   "cell_type": "code",
   "execution_count": null,
   "id": "eabd5a9e-9a17-4074-80dd-e78a5caff843",
   "metadata": {},
   "outputs": [],
   "source": [
    "# Make predictions on the validation set\n",
    "val_predictions = stacked_model.predict(X_val_embeds)\n",
    "\n",
    "# Evaluate the model on the validation set\n",
    "print(\"Validation Classification Report:\")\n",
    "print(classification_report(y_val, val_predictions, digits=4))\n",
    "\n",
    "# Make predictions on the test set\n",
    "test_predictions = stacked_model.predict(X_test_embeds)\n",
    "\n",
    "# Evaluate the model on the test set\n",
    "print(\"Test Classification Report:\")\n",
    "print(classification_report(y_test, test_predictions, digits=4))"
   ]
  }
 ],
 "metadata": {
  "kernelspec": {
   "display_name": "Python 3 (ipykernel)",
   "language": "python",
   "name": "python3"
  },
  "language_info": {
   "codemirror_mode": {
    "name": "ipython",
    "version": 3
   },
   "file_extension": ".py",
   "mimetype": "text/x-python",
   "name": "python",
   "nbconvert_exporter": "python",
   "pygments_lexer": "ipython3",
   "version": "3.11.7"
  }
 },
 "nbformat": 4,
 "nbformat_minor": 5
}
